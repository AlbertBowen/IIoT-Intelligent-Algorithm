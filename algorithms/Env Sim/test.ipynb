{
 "cells": [
  {
   "cell_type": "code",
   "execution_count": 1,
   "metadata": {},
   "outputs": [
    {
     "name": "stdout",
     "output_type": "stream",
     "text": [
      "Task name: A, id: 8, dependencies: 0 datasets and 0 tasks, done: False\n"
     ]
    }
   ],
   "source": [
    "from Workflow import trace_example\n",
    "from Env import Env\n",
    "from resource_pool import resources\n",
    "print(trace_example.evict())\n",
    "env = Env()"
   ]
  },
  {
   "cell_type": "code",
   "execution_count": 2,
   "metadata": {},
   "outputs": [],
   "source": [
    "env.place_data('random', list(resources.data_pool.keys()))\n",
    "env.place_task('random', list(resources.task_pool.keys()))"
   ]
  },
  {
   "cell_type": "code",
   "execution_count": 3,
   "metadata": {},
   "outputs": [
    {
     "name": "stdout",
     "output_type": "stream",
     "text": [
      "Server type: cloud, id: 0, capacity: 200, usage: 120\n",
      "Server type: cloud, id: 1, capacity: 200, usage: 200\n",
      "Server type: cloud, id: 2, capacity: 200, usage: 130\n",
      "Server type: edge, id: 3, capacity: 200, usage: 150\n",
      "Server type: edge, id: 4, capacity: 200, usage: 0\n",
      "Server type: edge, id: 5, capacity: 200, usage: 0\n",
      "Server type: end, id: 6, capacity: 200, usage: 0\n",
      "Server type: edge, id: 7, capacity: 200, usage: 0\n",
      "Server type: edge, id: 8, capacity: 200, usage: 0\n",
      "Server type: edge, id: 9, capacity: 200, usage: 0\n",
      "Server type: edge, id: 10, capacity: 200, usage: 0\n",
      "Server type: edge, id: 11, capacity: 200, usage: 0\n",
      "Server type: edge, id: 12, capacity: 200, usage: 0\n",
      "Server type: edge, id: 13, capacity: 200, usage: 0\n",
      "Server type: edge, id: 14, capacity: 200, usage: 0\n",
      "Server type: edge, id: 15, capacity: 200, usage: 0\n",
      "Server type: edge, id: 16, capacity: 200, usage: 0\n",
      "Server type: edge, id: 17, capacity: 200, usage: 0\n",
      "Server type: edge, id: 18, capacity: 200, usage: 0\n",
      "Server type: edge, id: 19, capacity: 200, usage: 0\n",
      "Server type: edge, id: 20, capacity: 200, usage: 0\n",
      "Server type: edge, id: 21, capacity: 200, usage: 0\n",
      "Server type: end, id: 22, capacity: 200, usage: 0\n",
      "Server type: edge, id: 23, capacity: 200, usage: 0\n",
      "Server type: edge, id: 24, capacity: 200, usage: 0\n",
      "Server type: end, id: 25, capacity: 200, usage: 0\n"
     ]
    }
   ],
   "source": [
    "for k, v in resources.server_pool.items():\n",
    "    print(v)"
   ]
  },
  {
   "cell_type": "code",
   "execution_count": 4,
   "metadata": {},
   "outputs": [
    {
     "data": {
      "text/plain": [
       "{0: 0, 1: 0, 2: 1, 3: 1, 4: 2, 5: 3}"
      ]
     },
     "execution_count": 4,
     "metadata": {},
     "output_type": "execute_result"
    }
   ],
   "source": [
    "env.data_map"
   ]
  },
  {
   "cell_type": "code",
   "execution_count": null,
   "metadata": {},
   "outputs": [],
   "source": []
  }
 ],
 "metadata": {
  "kernelspec": {
   "display_name": "base",
   "language": "python",
   "name": "python3"
  },
  "language_info": {
   "codemirror_mode": {
    "name": "ipython",
    "version": 3
   },
   "file_extension": ".py",
   "mimetype": "text/x-python",
   "name": "python",
   "nbconvert_exporter": "python",
   "pygments_lexer": "ipython3",
   "version": "3.8.8"
  },
  "orig_nbformat": 4,
  "vscode": {
   "interpreter": {
    "hash": "ad2bdc8ecc057115af97d19610ffacc2b4e99fae6737bb82f5d7fb13d2f2c186"
   }
  }
 },
 "nbformat": 4,
 "nbformat_minor": 2
}
